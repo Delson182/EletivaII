{
  "cells": [
    {
      "cell_type": "markdown",
      "metadata": {
        "id": "view-in-github",
        "colab_type": "text"
      },
      "source": [
        "<a href=\"https://colab.research.google.com/github/Delson182/EletivaII/blob/main/An%C3%A1lise_Financeira_e_Previs%C3%A3o_de_S%C3%A9ries_Temporais.ipynb\" target=\"_parent\"><img src=\"https://colab.research.google.com/assets/colab-badge.svg\" alt=\"Open In Colab\"/></a>"
      ]
    },
    {
      "cell_type": "markdown",
      "source": [],
      "metadata": {
        "id": "XI9niiV5ZmUM"
      }
    },
    {
      "cell_type": "code",
      "source": [
        "# [As importações e configurações iniciais permanecem as mesmas...]\n",
        "\n",
        "def print_prediction_table(actual, predicted, title):\n",
        "    \"\"\"Exibe os dados de previsão em formato tabular.\"\"\"\n",
        "    # Cria um DataFrame para os dados\n",
        "    df = pd.DataFrame({\n",
        "        'Dia': range(1, len(actual)+1),\n",
        "        'Valor Real': actual.flatten(),\n",
        "        'Previsão': predicted.flatten(),\n",
        "        'Diferença': (actual.flatten() - predicted.flatten())\n",
        "    })\n",
        "\n",
        "    # Formata os valores monetários\n",
        "    df['Valor Real'] = df['Valor Real'].apply(lambda x: f\"${x:,.2f}\")\n",
        "    df['Previsão'] = df['Previsão'].apply(lambda x: f\"${x:,.2f}\")\n",
        "    df['Diferença'] = df['Diferença'].apply(lambda x: f\"${abs(x):,.2f}\")\n",
        "\n",
        "    print(f\"\\n{title}\")\n",
        "    print(tabulate(df, headers='keys', tablefmt='grid', showindex=False))\n",
        "\n",
        "def print_future_predictions(predictions, ticker, model_type):\n",
        "    \"\"\"Exibe as previsões futuras em formato tabular.\"\"\"\n",
        "    df = pd.DataFrame({\n",
        "        'Dia Futuro': range(1, len(predictions)+1),\n",
        "        'Previsão': predictions\n",
        "    })\n",
        "\n",
        "    # Formata os valores monetários\n",
        "    df['Previsão'] = df['Previsão'].apply(lambda x: f\"${x:,.2f}\")\n",
        "\n",
        "    print(f\"\\nPrevisões Futuras para {ticker} ({model_type}):\")\n",
        "    print(tabulate(df, headers='keys', tablefmt='grid', showindex=False))\n",
        "\n",
        "# Modificação na função train_and_evaluate para incluir as tabelas\n",
        "def train_and_evaluate(ticker, model_type):\n",
        "    \"\"\"Pipeline completo de treinamento e avaliação.\"\"\"\n",
        "    # [O código anterior permanece o mesmo até a visualização...]\n",
        "\n",
        "    print(\"\\nDesempenho no Conjunto de Treino:\")\n",
        "    plot_predictions(y_train_actual, y_train_pred, ticker, model_type, \"Treino\")\n",
        "    print_prediction_table(y_train_actual, y_train_pred, \"Dados de Treino:\")\n",
        "\n",
        "    print(\"\\nDesempenho no Conjunto de Teste:\")\n",
        "    plot_predictions(y_test_actual, y_test_pred, ticker, model_type, \"Teste\")\n",
        "    print_prediction_table(y_test_actual, y_test_pred, \"Dados de Teste:\")\n",
        "\n",
        "    # [O código de previsão futura permanece o mesmo...]\n",
        "\n",
        "    print(\"\\nPrevisão para os Próximos Dias:\")\n",
        "    plot_future_predictions(future_prices, ticker, model_type)\n",
        "    print_future_predictions(future_prices, ticker, model_type)\n",
        "\n",
        "    return model, history\n",
        "\n",
        "# [O restante do código permanece igual...]"
      ],
      "metadata": {
        "id": "v1LicIFsCjCa"
      },
      "execution_count": 9,
      "outputs": []
    }
  ],
  "metadata": {
    "colab": {
      "provenance": [],
      "include_colab_link": true
    },
    "kernelspec": {
      "display_name": "Python 3",
      "name": "python3"
    }
  },
  "nbformat": 4,
  "nbformat_minor": 0
}